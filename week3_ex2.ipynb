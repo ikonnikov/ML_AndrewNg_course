{
 "cells": [
  {
   "cell_type": "code",
   "execution_count": 1,
   "metadata": {},
   "outputs": [],
   "source": [
    "import numpy as np\n",
    "import pandas as pd\n",
    "from scipy.optimize import fmin_tnc"
   ]
  },
  {
   "cell_type": "code",
   "execution_count": 2,
   "metadata": {},
   "outputs": [],
   "source": [
    "%matplotlib inline\n",
    "from matplotlib import pyplot as plt"
   ]
  },
  {
   "cell_type": "markdown",
   "metadata": {},
   "source": [
    "==================== Load Data ===================="
   ]
  },
  {
   "cell_type": "code",
   "execution_count": 3,
   "metadata": {},
   "outputs": [],
   "source": [
    "data = pd.read_table('data\\\\week3\\\\ex2data1.txt', sep=',', header=None, names=['X_col1', 'X_col2', 'Y_col3'], dtype={'X_col1': np.float64, 'X_col2': np.float64, 'Y_col3': np.uint8})"
   ]
  },
  {
   "cell_type": "code",
   "execution_count": 4,
   "metadata": {},
   "outputs": [
    {
     "data": {
      "text/html": [
       "<div>\n",
       "<style scoped>\n",
       "    .dataframe tbody tr th:only-of-type {\n",
       "        vertical-align: middle;\n",
       "    }\n",
       "\n",
       "    .dataframe tbody tr th {\n",
       "        vertical-align: top;\n",
       "    }\n",
       "\n",
       "    .dataframe thead th {\n",
       "        text-align: right;\n",
       "    }\n",
       "</style>\n",
       "<table border=\"1\" class=\"dataframe\">\n",
       "  <thead>\n",
       "    <tr style=\"text-align: right;\">\n",
       "      <th></th>\n",
       "      <th>X_col1</th>\n",
       "      <th>X_col2</th>\n",
       "      <th>Y_col3</th>\n",
       "    </tr>\n",
       "  </thead>\n",
       "  <tbody>\n",
       "    <tr>\n",
       "      <th>0</th>\n",
       "      <td>34.623660</td>\n",
       "      <td>78.024693</td>\n",
       "      <td>0</td>\n",
       "    </tr>\n",
       "    <tr>\n",
       "      <th>1</th>\n",
       "      <td>30.286711</td>\n",
       "      <td>43.894998</td>\n",
       "      <td>0</td>\n",
       "    </tr>\n",
       "    <tr>\n",
       "      <th>2</th>\n",
       "      <td>35.847409</td>\n",
       "      <td>72.902198</td>\n",
       "      <td>0</td>\n",
       "    </tr>\n",
       "    <tr>\n",
       "      <th>3</th>\n",
       "      <td>60.182599</td>\n",
       "      <td>86.308552</td>\n",
       "      <td>1</td>\n",
       "    </tr>\n",
       "    <tr>\n",
       "      <th>4</th>\n",
       "      <td>79.032736</td>\n",
       "      <td>75.344376</td>\n",
       "      <td>1</td>\n",
       "    </tr>\n",
       "  </tbody>\n",
       "</table>\n",
       "</div>"
      ],
      "text/plain": [
       "      X_col1     X_col2  Y_col3\n",
       "0  34.623660  78.024693       0\n",
       "1  30.286711  43.894998       0\n",
       "2  35.847409  72.902198       0\n",
       "3  60.182599  86.308552       1\n",
       "4  79.032736  75.344376       1"
      ]
     },
     "execution_count": 4,
     "metadata": {},
     "output_type": "execute_result"
    }
   ],
   "source": [
    "data.head()"
   ]
  },
  {
   "cell_type": "code",
   "execution_count": 5,
   "metadata": {},
   "outputs": [],
   "source": [
    "X = data.loc[:, ['X_col1', 'X_col2']].to_numpy()"
   ]
  },
  {
   "cell_type": "code",
   "execution_count": 6,
   "metadata": {},
   "outputs": [],
   "source": [
    "y = data.loc[:, 'Y_col3'].to_numpy()"
   ]
  },
  {
   "cell_type": "markdown",
   "metadata": {},
   "source": [
    "==================== Part 1: Plotting ===================="
   ]
  },
  {
   "cell_type": "code",
   "execution_count": 7,
   "metadata": {},
   "outputs": [
    {
     "data": {
      "image/png": "[encoded data removed]",
      "text/plain": [
       "<Figure size 432x288 with 1 Axes>"
      ]
     },
     "metadata": {
      "needs_background": "light"
     },
     "output_type": "display_data"
    }
   ],
   "source": [
    "fig, ax = plt.subplots()\n",
    "\n",
    "ax.scatter(np.take(X[:, 0], np.argwhere(y==1)), np.take(X[:, 1], np.argwhere(y==1)), c='black', marker='+', label='Admitted')\n",
    "ax.scatter(np.take(X[:, 0], np.argwhere(y==0)), np.take(X[:, 1], np.argwhere(y==0)), c='yellow', marker='o', facecolors='none', edgecolors='black', label='Not admitted')\n",
    "ax.set_xlabel('Exam 1 score', size=10)\n",
    "ax.set_ylabel('Exam 2 score', size=10)\n",
    "ax.grid(True)\n",
    "ax.legend(fontsize=10)\n",
    "ax.set_xlim([30, 100])\n",
    "ax.set_ylim([30, 100])\n",
    "\n",
    "plt.show()"
   ]
  },
  {
   "cell_type": "markdown",
   "metadata": {},
   "source": [
    "============ Part 2: Compute Cost and Gradient ============"
   ]
  },
  {
   "cell_type": "code",
   "execution_count": 8,
   "metadata": {},
   "outputs": [],
   "source": [
    "# 1 / (1 + exp(-h))\n",
    "def sigmoid(z):\n",
    "    return 1.0 / (1.0 + np.exp(-z)) "
   ]
  },
  {
   "cell_type": "code",
   "execution_count": 9,
   "metadata": {},
   "outputs": [],
   "source": [
    "def costFunction(theta, X, y):\n",
    "    theta = theta.reshape(theta.size, 1)\n",
    "    hypo = sigmoid(np.matmul(X, theta))\n",
    "    \n",
    "    J = (1.0 / y.size) * (np.matmul(-1.0 * y.T, np.log(hypo)) - np.matmul((1.0 - y.T), np.log(1.0 - hypo)))\n",
    "    grad = (1.0 / y.size) * np.matmul((hypo - y).T, X)\n",
    "    \n",
    "    return J.item(), grad.T.flatten()"
   ]
  },
  {
   "cell_type": "code",
   "execution_count": 10,
   "metadata": {},
   "outputs": [],
   "source": [
    "initial_theta = np.zeros((X.shape[1] + 1,), dtype=np.float64)"
   ]
  },
  {
   "cell_type": "code",
   "execution_count": 11,
   "metadata": {},
   "outputs": [],
   "source": [
    "X1 = np.hstack((np.ones((X.shape[0], 1), dtype=np.float64), X))"
   ]
  },
  {
   "cell_type": "code",
   "execution_count": 12,
   "metadata": {},
   "outputs": [],
   "source": [
    "cost, grad = costFunction(initial_theta, X1, y.reshape(y.size, 1))"
   ]
  },
  {
   "cell_type": "code",
   "execution_count": 13,
   "metadata": {},
   "outputs": [
    {
     "name": "stdout",
     "output_type": "stream",
     "text": [
      "Cost at initial theta (zeros): 0.693147\n",
      "Expected cost (approx): 0.693\n",
      "Gradient at initial theta (zeros): \n",
      " -0.100000\n",
      " -12.009217\n",
      " -11.262842\n",
      "Expected gradients (approx):\n",
      " -0.1000\n",
      " -12.0092\n",
      " -11.2628\n",
      "\n"
     ]
    }
   ],
   "source": [
    "print('Cost at initial theta (zeros): {:.6f}\\nExpected cost (approx): 0.693'.format(cost))\n",
    "print('Gradient at initial theta (zeros): \\n {}'.format('\\n '.join('{:.6f}'.format(item) for item in grad)))\n",
    "print('Expected gradients (approx):\\n -0.1000\\n -12.0092\\n -11.2628\\n')"
   ]
  },
  {
   "cell_type": "code",
   "execution_count": 14,
   "metadata": {},
   "outputs": [],
   "source": [
    "test_theta = np.array([-24, 0.2, 0.2], dtype=np.float64)"
   ]
  },
  {
   "cell_type": "code",
   "execution_count": 15,
   "metadata": {},
   "outputs": [],
   "source": [
    "cost, grad = costFunction(test_theta, X1, y.reshape(y.size, 1))"
   ]
  },
  {
   "cell_type": "code",
   "execution_count": 16,
   "metadata": {},
   "outputs": [
    {
     "name": "stdout",
     "output_type": "stream",
     "text": [
      "Cost at test theta: 0.218330\n",
      "Expected cost (approx): 0.218\n",
      "Gradient at test theta: \n",
      " 0.042903\n",
      " 2.566234\n",
      " 2.646797\n",
      "Expected gradients (approx):\n",
      " 0.043\n",
      " 2.566\n",
      " 2.647\n",
      "\n"
     ]
    }
   ],
   "source": [
    "print('Cost at test theta: {:.6f}\\nExpected cost (approx): 0.218'.format(cost))\n",
    "print('Gradient at test theta: \\n {}'.format('\\n '.join('{:.6f}'.format(item) for item in grad)))\n",
    "print('Expected gradients (approx):\\n 0.043\\n 2.566\\n 2.647\\n')"
   ]
  },
  {
   "cell_type": "markdown",
   "metadata": {},
   "source": [
    "============= Part 3: Optimizing using fminunc  ============="
   ]
  },
  {
   "cell_type": "code",
   "execution_count": 17,
   "metadata": {},
   "outputs": [],
   "source": [
    "minimization = fmin_tnc(func=costFunction, x0=initial_theta, args=(X1, y.reshape(y.size, 1)))"
   ]
  },
  {
   "cell_type": "code",
   "execution_count": 18,
   "metadata": {},
   "outputs": [],
   "source": [
    "cost, grad = costFunction(minimization[0], X1, y.reshape(y.size, 1))"
   ]
  },
  {
   "cell_type": "code",
   "execution_count": 19,
   "metadata": {},
   "outputs": [
    {
     "name": "stdout",
     "output_type": "stream",
     "text": [
      "Cost at theta found by fmin_tnc: 0.203498\n",
      "Expected cost (approx): 0.203\n",
      "theta: \n",
      " -25.161319\n",
      " 0.206232\n",
      " 0.201471\n",
      "Expected theta (approx):\n",
      " -25.161\n",
      " 0.206\n",
      " 0.201\n",
      "\n"
     ]
    }
   ],
   "source": [
    "print('Cost at theta found by fmin_tnc: {:.6f}\\nExpected cost (approx): 0.203'.format(cost))\n",
    "print('theta: \\n {}'.format('\\n '.join('{:.6f}'.format(item) for item in minimization[0])))\n",
    "print('Expected theta (approx):\\n -25.161\\n 0.206\\n 0.201\\n')"
   ]
  },
  {
   "cell_type": "code",
   "execution_count": 20,
   "metadata": {},
   "outputs": [],
   "source": [
    "plot_X = np.array([np.min(X1[:, 1]) - 2, np.max(X1[:, 1]) + 2], dtype=np.float64)"
   ]
  },
  {
   "cell_type": "code",
   "execution_count": 21,
   "metadata": {},
   "outputs": [],
   "source": [
    "plot_Y = (-1.0 / minimization[0][2]) * (minimization[0][1] * plot_X + minimization[0][0])"
   ]
  },
  {
   "cell_type": "code",
   "execution_count": 22,
   "metadata": {},
   "outputs": [
    {
     "data": {
      "image/png": "[encoded data removed]",
      "text/plain": [
       "<Figure size 432x288 with 1 Axes>"
      ]
     },
     "metadata": {
      "needs_background": "light"
     },
     "output_type": "display_data"
    }
   ],
   "source": [
    "fig, ax = plt.subplots()\n",
    "\n",
    "ax.scatter(np.take(X1[:, 1], np.argwhere(y==1)), np.take(X1[:, 2], np.argwhere(y==1)), c='black', marker='+', label='Admitted')\n",
    "ax.scatter(np.take(X1[:, 1], np.argwhere(y==0)), np.take(X1[:, 2], np.argwhere(y==0)), c='yellow', marker='o', facecolors='none', edgecolors='black', label='Not admitted')\n",
    "ax.plot(plot_X, plot_Y, label='Decision Boundary')\n",
    "ax.set_xlabel('Exam 1 score', size=10)\n",
    "ax.set_ylabel('Exam 2 score', size=10)\n",
    "ax.grid(True)\n",
    "ax.legend(fontsize=10)\n",
    "ax.set_xlim([30, 100])\n",
    "ax.set_ylim([30, 100])\n",
    "\n",
    "plt.show()"
   ]
  },
  {
   "cell_type": "markdown",
   "metadata": {},
   "source": [
    "============== Part 4: Predict and Accuracies =============="
   ]
  },
  {
   "cell_type": "code",
   "execution_count": 23,
   "metadata": {},
   "outputs": [],
   "source": [
    "prob = sigmoid(np.matmul(np.array([1, 45, 85], dtype=np.float64), minimization[0]))"
   ]
  },
  {
   "cell_type": "code",
   "execution_count": 24,
   "metadata": {},
   "outputs": [
    {
     "name": "stdout",
     "output_type": "stream",
     "text": [
      "For a student with scores 45 and 85, we predict an admission probability of 0.776291\n",
      "Expected value: 0.775 +/- 0.002\n"
     ]
    }
   ],
   "source": [
    "print('For a student with scores 45 and 85, we predict an admission probability of {:.6f}\\nExpected value: 0.775 +/- 0.002'.format(prob))"
   ]
  },
  {
   "cell_type": "code",
   "execution_count": 25,
   "metadata": {},
   "outputs": [],
   "source": [
    "def predict(theta, X):\n",
    "    return sigmoid(np.matmul(X, theta)).round()"
   ]
  },
  {
   "cell_type": "code",
   "execution_count": 26,
   "metadata": {},
   "outputs": [],
   "source": [
    "p = predict(minimization[0], X1)"
   ]
  },
  {
   "cell_type": "code",
   "execution_count": 27,
   "metadata": {},
   "outputs": [
    {
     "name": "stdout",
     "output_type": "stream",
     "text": [
      "Train Accuracy: 89.000000\n",
      "Expected accuracy (approx): 89.0\n"
     ]
    }
   ],
   "source": [
    "print('Train Accuracy: {:.6f}\\nExpected accuracy (approx): 89.0'.format(np.mean((p==y).astype(np.float64)) * 100))"
   ]
  }
 ],
 "metadata": {
  "kernelspec": {
   "display_name": "Python 3",
   "language": "python",
   "name": "python3"
  },
  "language_info": {
   "codemirror_mode": {
    "name": "ipython",
    "version": 3
   },
   "file_extension": ".py",
   "mimetype": "text/x-python",
   "name": "python",
   "nbconvert_exporter": "python",
   "pygments_lexer": "ipython3",
   "version": "3.6.8"
  }
 },
 "nbformat": 4,
 "nbformat_minor": 4
}
